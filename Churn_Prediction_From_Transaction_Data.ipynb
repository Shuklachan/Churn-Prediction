{
 "cells": [
  {
   "cell_type": "markdown",
   "metadata": {},
   "source": [
    "# Model Exercise \n"
   ]
  },
  {
   "cell_type": "markdown",
   "metadata": {},
   "source": [
    "## This note book consist of two parts\n",
    "1. Building Model \n",
    "2.Scoring the New Data \n"
   ]
  },
  {
   "cell_type": "markdown",
   "metadata": {},
   "source": [
    "### 1. Building Model"
   ]
  },
  {
   "cell_type": "markdown",
   "metadata": {},
   "source": [
    "###### Importing Libraries"
   ]
  },
  {
   "cell_type": "code",
   "execution_count": 1,
   "metadata": {},
   "outputs": [],
   "source": [
    "import pandas as pd\n",
    "import datetime as dt\n",
    "import pandasql\n",
    "import seaborn as sns\n",
    "import numpy as np\n",
    "from sklearn.model_selection import train_test_split\n",
    "from sklearn.model_selection import cross_val_score\n",
    "from sklearn.model_selection import StratifiedKFold\n",
    "from sklearn.metrics import classification_report\n",
    "from sklearn.metrics import confusion_matrix\n",
    "from sklearn.metrics import accuracy_score\n",
    "from sklearn.linear_model import LogisticRegression\n",
    "from sklearn.tree import DecisionTreeClassifier\n",
    "from sklearn.neighbors import KNeighborsClassifier\n",
    "from sklearn.discriminant_analysis import LinearDiscriminantAnalysis\n",
    "from sklearn.naive_bayes import GaussianNB\n",
    "from sklearn.svm import SVC\n",
    "from pandas import read_csv\n",
    "from pandas.plotting import scatter_matrix\n",
    "from matplotlib import pyplot"
   ]
  },
  {
   "cell_type": "markdown",
   "metadata": {},
   "source": [
    "###### Loading Data "
   ]
  },
  {
   "cell_type": "code",
   "execution_count": 2,
   "metadata": {},
   "outputs": [],
   "source": [
    "df_init=pd.read_csv(\"C:/Users/shukl/Desktop/Epsilon/Data.csv\")\n"
   ]
  },
  {
   "cell_type": "markdown",
   "metadata": {},
   "source": [
    "###### Cleaning and Preparing Data "
   ]
  },
  {
   "cell_type": "code",
   "execution_count": 3,
   "metadata": {},
   "outputs": [
    {
     "name": "stderr",
     "output_type": "stream",
     "text": [
      "<ipython-input-3-a3ab3b372c21>:10: SettingWithCopyWarning: \n",
      "A value is trying to be set on a copy of a slice from a DataFrame.\n",
      "Try using .loc[row_indexer,col_indexer] = value instead\n",
      "\n",
      "See the caveats in the documentation: https://pandas.pydata.org/pandas-docs/stable/user_guide/indexing.html#returning-a-view-versus-a-copy\n",
      "  model_cust['Retain'] = 1\n",
      "<ipython-input-3-a3ab3b372c21>:22: SettingWithCopyWarning: \n",
      "A value is trying to be set on a copy of a slice from a DataFrame.\n",
      "Try using .loc[row_indexer,col_indexer] = value instead\n",
      "\n",
      "See the caveats in the documentation: https://pandas.pydata.org/pandas-docs/stable/user_guide/indexing.html#returning-a-view-versus-a-copy\n",
      "  model_main['InvoiceDate'] = pd.to_datetime(model_main['InvoiceDate'], errors='coerce')\n",
      "<ipython-input-3-a3ab3b372c21>:23: SettingWithCopyWarning: \n",
      "A value is trying to be set on a copy of a slice from a DataFrame.\n",
      "Try using .loc[row_indexer,col_indexer] = value instead\n",
      "\n",
      "See the caveats in the documentation: https://pandas.pydata.org/pandas-docs/stable/user_guide/indexing.html#returning-a-view-versus-a-copy\n",
      "  model_main['InvoiceDate'] = model_main['InvoiceDate'].dt.strftime('%m/%Y')\n",
      "<ipython-input-3-a3ab3b372c21>:24: SettingWithCopyWarning: \n",
      "A value is trying to be set on a copy of a slice from a DataFrame.\n",
      "Try using .loc[row_indexer,col_indexer] = value instead\n",
      "\n",
      "See the caveats in the documentation: https://pandas.pydata.org/pandas-docs/stable/user_guide/indexing.html#returning-a-view-versus-a-copy\n",
      "  model_extra['InvoiceDate'] = pd.to_datetime(model_extra['InvoiceDate'], errors='coerce')\n",
      "<ipython-input-3-a3ab3b372c21>:25: SettingWithCopyWarning: \n",
      "A value is trying to be set on a copy of a slice from a DataFrame.\n",
      "Try using .loc[row_indexer,col_indexer] = value instead\n",
      "\n",
      "See the caveats in the documentation: https://pandas.pydata.org/pandas-docs/stable/user_guide/indexing.html#returning-a-view-versus-a-copy\n",
      "  model_extra['InvoiceDate'] = model_extra['InvoiceDate'].dt.strftime('%m/%Y')\n"
     ]
    }
   ],
   "source": [
    "df_init.columns = df_init.columns.str.replace(' ', '')\n",
    "df_init.InvoiceDate=pd.to_datetime(df_init.InvoiceDate)\n",
    "df_init = pandasql.sqldf(\"SELECT *,Quantity*Price as Total_Spent FROM df_init where Quantity>0 and Price>0;\", globals())\n",
    "df_init['InvoiceDate'] = pd.to_datetime(df_init['InvoiceDate']).dt.normalize()\n",
    "df_init['InvoiceDate'] = pd.to_datetime(df_init['InvoiceDate']).dt.date\n",
    "\n",
    "start_date_model_cust = pd.to_datetime('10/9/2011 0:00', utc= True)\n",
    "end_date_model_cust = pd.to_datetime('11/9/2011 23:59', utc= True)\n",
    "model_cust=df_init[(df_init['InvoiceDate'] > start_date_model_cust) & (df_init['InvoiceDate'] < end_date_model_cust)]\n",
    "model_cust['Retain'] = 1\n",
    "model_cust = model_cust[['CustomerID','Retain']]\n",
    "model_cust=model_cust.drop_duplicates()\n",
    "\n",
    "start_date_model_main = pd.to_datetime('1/12/2009 0:00', utc= True)\n",
    "end_date_model_main = pd.to_datetime('9/30/2011 23:59', utc= True)\n",
    "model_main=df_init[(df_init['InvoiceDate'] > start_date_model_main) & (df_init['InvoiceDate'] < end_date_model_main)]\n",
    "\n",
    "start_date_model_extra = pd.to_datetime('10/1/2011 0:00', utc= True)\n",
    "end_date_model_extra = pd.to_datetime('10/9/2011 23:59', utc= True)\n",
    "model_extra=df_init[(df_init['InvoiceDate'] > start_date_model_extra) & (df_init['InvoiceDate'] < end_date_model_extra)]\n",
    "\n",
    "model_main['InvoiceDate'] = pd.to_datetime(model_main['InvoiceDate'], errors='coerce')\n",
    "model_main['InvoiceDate'] = model_main['InvoiceDate'].dt.strftime('%m/%Y')\n",
    "model_extra['InvoiceDate'] = pd.to_datetime(model_extra['InvoiceDate'], errors='coerce')\n",
    "model_extra['InvoiceDate'] = model_extra['InvoiceDate'].dt.strftime('%m/%Y')\n",
    "\n",
    "model_main=pandasql.sqldf(\"SELECT CustomerID, count(Invoice) as Visits, InvoiceDate,sum(Quantity) as Total_Quantity,sum(Total_Spent) as Grand_Spent FROM model_main Group by CustomerID,InvoiceDate;\", globals())\n",
    "model_main=model_main.dropna()\n",
    "model_extra=pandasql.sqldf(\"SELECT CustomerID, count(Invoice) as Visits, sum(Quantity) as Total_Quantity,sum(Total_Spent) as Grand_Spent FROM model_extra Group by CustomerID;\", globals())\n",
    "model_extra=model_extra.dropna()\n",
    "\n",
    "model_main_1=pd.pivot_table(model_main, index='CustomerID', columns='InvoiceDate', values='Visits')\n",
    "model_main_2=pd.pivot_table(model_main, index='CustomerID', columns='InvoiceDate', values='Total_Quantity')\n",
    "model_main_3=pd.pivot_table(model_main, index='CustomerID', columns='InvoiceDate', values='Grand_Spent')\n",
    "model_main_1=model_main_1.fillna(0)\n",
    "model_main_2=model_main_2.fillna(0)\n",
    "model_main_3=model_main_3.fillna(0)\n",
    "model_main_1.rename(columns={'12/2009':'M_1','01/2010':'M_2','02/2010':'M_3','03/2010':'M_4','04/2010':'M_5','05/2010':'M_6','06/2010':'M_7','07/2010':'M_8','08/2010':'M_9','09/2010':'M_10','10/2010':'M_11','11/2010':'M_12','12/2010':'M_13','01/2011':'M_14','02/2011':'M_15','03/2011':'M_16','04/2011':'M_17','05/2011':'M_18','06/2011':'M_19','07/2011':'M_20','08/2011':'M_21','09/2011':'M_22'},inplace=True)\n",
    "model_main_2.rename(columns={'12/2009':'M_1','01/2010':'M_2','02/2010':'M_3','03/2010':'M_4','04/2010':'M_5','05/2010':'M_6','06/2010':'M_7','07/2010':'M_8','08/2010':'M_9','09/2010':'M_10','10/2010':'M_11','11/2010':'M_12','12/2010':'M_13','01/2011':'M_14','02/2011':'M_15','03/2011':'M_16','04/2011':'M_17','05/2011':'M_18','06/2011':'M_19','07/2011':'M_20','08/2011':'M_21','09/2011':'M_22'},inplace=True)\n",
    "model_main_3.rename(columns={'12/2009':'M_1','01/2010':'M_2','02/2010':'M_3','03/2010':'M_4','04/2010':'M_5','05/2010':'M_6','06/2010':'M_7','07/2010':'M_8','08/2010':'M_9','09/2010':'M_10','10/2010':'M_11','11/2010':'M_12','12/2010':'M_13','01/2011':'M_14','02/2011':'M_15','03/2011':'M_16','04/2011':'M_17','05/2011':'M_18','06/2011':'M_19','07/2011':'M_20','08/2011':'M_21','09/2011':'M_22'},inplace=True)\n",
    "\n",
    "model_main_1=model_main_1.add_prefix('Visits_')\n",
    "model_main_2=model_main_2.add_prefix('Total_Quantity_')\n",
    "model_main_3=model_main_3.add_prefix('Grand_Spent_')\n",
    "model_extra=model_extra.add_prefix('model_extra_')\n",
    "\n",
    "model_main = pandasql.sqldf(\"SELECT * FROM model_main_1 LEFT JOIN model_main_2 ON model_main_1.CustomerID = model_main_2.CustomerID;\", globals())\n",
    "model_main=pandasql.sqldf(\"SELECT * FROM model_main LEFT JOIN model_main_3 ON model_main.CustomerID = model_main_3.CustomerID;\", globals())\n",
    "model_main=pandasql.sqldf(\"SELECT * FROM model_main LEFT JOIN model_extra ON model_main.CustomerID = model_extra.model_extra_CustomerID;\", globals())\n",
    "model_main=pandasql.sqldf(\"SELECT * FROM model_main LEFT JOIN model_cust ON model_main.CustomerID = model_cust.CustomerID;\", globals())\n",
    "model_main=model_main.loc[:,~model_main.columns.duplicated()]\n",
    "model_main = model_main.drop('model_extra_CustomerID', 1)\n",
    "model_main=model_main.fillna(0)"
   ]
  },
  {
   "cell_type": "markdown",
   "metadata": {},
   "source": [
    "###### Partitioning Data"
   ]
  },
  {
   "cell_type": "code",
   "execution_count": 4,
   "metadata": {},
   "outputs": [],
   "source": [
    "array = model_main.values\n",
    "X = array[:,1:69]\n",
    "y = array[:,70]\n",
    "X=np.asarray(X)\n",
    "y=np.asarray(y)\n",
    "X_train, X_validation, Y_train, Y_validation = train_test_split(X, y, test_size=0.20, random_state=47)"
   ]
  },
  {
   "cell_type": "markdown",
   "metadata": {},
   "source": [
    "###### Building Models and Applying Algorithms"
   ]
  },
  {
   "cell_type": "code",
   "execution_count": 5,
   "metadata": {},
   "outputs": [
    {
     "name": "stderr",
     "output_type": "stream",
     "text": [
      "C:\\ProgramData\\Anaconda3\\lib\\site-packages\\sklearn\\svm\\_base.py:976: ConvergenceWarning: Liblinear failed to converge, increase the number of iterations.\n",
      "  warnings.warn(\"Liblinear failed to converge, increase \"\n",
      "C:\\ProgramData\\Anaconda3\\lib\\site-packages\\sklearn\\svm\\_base.py:976: ConvergenceWarning: Liblinear failed to converge, increase the number of iterations.\n",
      "  warnings.warn(\"Liblinear failed to converge, increase \"\n",
      "C:\\ProgramData\\Anaconda3\\lib\\site-packages\\sklearn\\svm\\_base.py:976: ConvergenceWarning: Liblinear failed to converge, increase the number of iterations.\n",
      "  warnings.warn(\"Liblinear failed to converge, increase \"\n",
      "C:\\ProgramData\\Anaconda3\\lib\\site-packages\\sklearn\\svm\\_base.py:976: ConvergenceWarning: Liblinear failed to converge, increase the number of iterations.\n",
      "  warnings.warn(\"Liblinear failed to converge, increase \"\n",
      "C:\\ProgramData\\Anaconda3\\lib\\site-packages\\sklearn\\svm\\_base.py:976: ConvergenceWarning: Liblinear failed to converge, increase the number of iterations.\n",
      "  warnings.warn(\"Liblinear failed to converge, increase \"\n",
      "C:\\ProgramData\\Anaconda3\\lib\\site-packages\\sklearn\\svm\\_base.py:976: ConvergenceWarning: Liblinear failed to converge, increase the number of iterations.\n",
      "  warnings.warn(\"Liblinear failed to converge, increase \"\n",
      "C:\\ProgramData\\Anaconda3\\lib\\site-packages\\sklearn\\svm\\_base.py:976: ConvergenceWarning: Liblinear failed to converge, increase the number of iterations.\n",
      "  warnings.warn(\"Liblinear failed to converge, increase \"\n",
      "C:\\ProgramData\\Anaconda3\\lib\\site-packages\\sklearn\\svm\\_base.py:976: ConvergenceWarning: Liblinear failed to converge, increase the number of iterations.\n",
      "  warnings.warn(\"Liblinear failed to converge, increase \"\n",
      "C:\\ProgramData\\Anaconda3\\lib\\site-packages\\sklearn\\svm\\_base.py:976: ConvergenceWarning: Liblinear failed to converge, increase the number of iterations.\n",
      "  warnings.warn(\"Liblinear failed to converge, increase \"\n",
      "C:\\ProgramData\\Anaconda3\\lib\\site-packages\\sklearn\\svm\\_base.py:976: ConvergenceWarning: Liblinear failed to converge, increase the number of iterations.\n",
      "  warnings.warn(\"Liblinear failed to converge, increase \"\n"
     ]
    },
    {
     "name": "stdout",
     "output_type": "stream",
     "text": [
      "LR: 0.756458 (0.020267)\n",
      "LDA: 0.787520 (0.007654)\n",
      "KNN: 0.779224 (0.015991)\n",
      "CART: 0.731812 (0.021555)\n",
      "NB: 0.782685 (0.013990)\n",
      "SVM: 0.773941 (0.001729)\n"
     ]
    }
   ],
   "source": [
    "# Spot Check Algorithms\n",
    "models = []\n",
    "models.append(('LR', LogisticRegression(solver='liblinear', multi_class='ovr')))\n",
    "models.append(('LDA', LinearDiscriminantAnalysis()))\n",
    "models.append(('KNN', KNeighborsClassifier()))\n",
    "models.append(('CART', DecisionTreeClassifier()))\n",
    "models.append(('NB', GaussianNB()))\n",
    "models.append(('SVM', SVC(gamma='auto',probability=True)))\n",
    "# evaluate each model in turn\n",
    "results = []\n",
    "names = []\n",
    "for name, model in models:\n",
    "\tkfold = StratifiedKFold(n_splits=10, random_state=1, shuffle=True)\n",
    "\tcv_results = cross_val_score(model, X_train, Y_train, cv=kfold, scoring='accuracy')\n",
    "\tresults.append(cv_results)\n",
    "\tnames.append(name)\n",
    "\tprint('%s: %f (%f)' % (name, cv_results.mean(), cv_results.std()))"
   ]
  },
  {
   "cell_type": "markdown",
   "metadata": {},
   "source": [
    "###### Comparing Algorithms"
   ]
  },
  {
   "cell_type": "code",
   "execution_count": 6,
   "metadata": {},
   "outputs": [
    {
     "data": {
      "image/png": "[encoded data removed]",
      "text/plain": [
       "<Figure size 432x288 with 1 Axes>"
      ]
     },
     "metadata": {
      "needs_background": "light"
     },
     "output_type": "display_data"
    }
   ],
   "source": [
    "pyplot.boxplot(results, labels=names)\n",
    "pyplot.title('Algorithm Comparison')\n",
    "pyplot.show()\n"
   ]
  },
  {
   "cell_type": "markdown",
   "metadata": {},
   "source": [
    "###### Calcualting Confusion Matrics"
   ]
  },
  {
   "cell_type": "code",
   "execution_count": 7,
   "metadata": {},
   "outputs": [
    {
     "name": "stderr",
     "output_type": "stream",
     "text": [
      "C:\\ProgramData\\Anaconda3\\lib\\site-packages\\sklearn\\svm\\_base.py:976: ConvergenceWarning: Liblinear failed to converge, increase the number of iterations.\n",
      "  warnings.warn(\"Liblinear failed to converge, increase \"\n"
     ]
    },
    {
     "name": "stdout",
     "output_type": "stream",
     "text": [
      "[[3006  359]\n",
      " [ 645  334]]\n",
      "[[3321   44]\n",
      " [ 844  135]]\n",
      "[[3218  147]\n",
      " [ 588  391]]\n",
      "[[3365    0]\n",
      " [   1  978]]\n",
      "[[3187  178]\n",
      " [ 763  216]]\n",
      "[[3365    0]\n",
      " [   7  972]]\n"
     ]
    }
   ],
   "source": [
    "modelLR=LogisticRegression(multi_class='ovr', solver='liblinear')\n",
    "modelLDA=LinearDiscriminantAnalysis()\n",
    "modelKNN=KNeighborsClassifier()\n",
    "modelCART=DecisionTreeClassifier()\n",
    "modelNB=GaussianNB()\n",
    "modelSVM=SVC(gamma='auto',probability=True)\n",
    "\n",
    "modelLR.fit(X_train, Y_train)\n",
    "modelLDA.fit(X_train, Y_train)\n",
    "modelKNN.fit(X_train, Y_train)\n",
    "modelCART.fit(X_train, Y_train)\n",
    "modelNB.fit(X_train, Y_train)\n",
    "modelSVM.fit(X_train, Y_train)\n",
    "\n",
    "predictionsLR = modelLR.predict(X_train)\n",
    "predictionsLDA = modelLDA.predict(X_train)\n",
    "predictionsKNN = modelKNN.predict(X_train)\n",
    "predictionsCART = modelCART.predict(X_train)\n",
    "predictionsNB = modelNB.predict(X_train)\n",
    "predictionsSVM = modelSVM.predict(X_train)\n",
    "\n",
    "pred_prob_LR = modelLR.predict_proba(X_train)\n",
    "pred_prob_LDA = modelLDA.predict_proba(X_train)\n",
    "pred_prob_KNN = modelKNN.predict_proba(X_train)\n",
    "pred_prob_CART = modelCART.predict_proba(X_train)\n",
    "pred_prob_NB = modelNB.predict_proba(X_train)\n",
    "pred_prob_SVM = modelSVM.predict_proba(X_train)\n",
    "\n",
    "print(confusion_matrix(Y_train, predictionsLR))\n",
    "print(confusion_matrix(Y_train, predictionsLDA))\n",
    "print(confusion_matrix(Y_train, predictionsKNN))\n",
    "print(confusion_matrix(Y_train, predictionsCART))\n",
    "print(confusion_matrix(Y_train, predictionsNB))\n",
    "print(confusion_matrix(Y_train, predictionsSVM))\n"
   ]
  },
  {
   "cell_type": "markdown",
   "metadata": {},
   "source": [
    "###### Calculating AUC"
   ]
  },
  {
   "cell_type": "code",
   "execution_count": 8,
   "metadata": {},
   "outputs": [
    {
     "name": "stdout",
     "output_type": "stream",
     "text": [
      "AUC-LR: 0.655\n",
      "AUC-LDA: 0.726\n",
      "AUC-KNN: 0.883\n",
      "AUC-CART: 1.000\n",
      "AUC-NB: 0.722\n",
      "AUC-SVM: 1.000\n"
     ]
    }
   ],
   "source": [
    "from sklearn.metrics import roc_auc_score\n",
    "from sklearn.metrics import roc_curve\n",
    "\n",
    "fpr, tpr, thresholds = roc_curve(Y_train,pred_prob_LR[:,1] )\n",
    "auc = roc_auc_score(Y_train,pred_prob_LR[:,1])\n",
    "print('AUC-LR: %.3f' % auc)\n",
    "\n",
    "fpr, tpr, thresholds = roc_curve(Y_train,pred_prob_LDA[:,1] )\n",
    "auc = roc_auc_score(Y_train,pred_prob_LDA[:,1])\n",
    "print('AUC-LDA: %.3f' % auc)\n",
    "\n",
    "fpr, tpr, thresholds = roc_curve(Y_train,pred_prob_KNN[:,1] )\n",
    "auc = roc_auc_score(Y_train,pred_prob_KNN[:,1])\n",
    "print('AUC-KNN: %.3f' % auc)\n",
    "\n",
    "fpr, tpr, thresholds = roc_curve(Y_train,pred_prob_CART[:,1] )\n",
    "auc = roc_auc_score(Y_train,pred_prob_CART[:,1])\n",
    "print('AUC-CART: %.3f' % auc)\n",
    "\n",
    "fpr, tpr, thresholds = roc_curve(Y_train,pred_prob_NB[:,1] )\n",
    "auc = roc_auc_score(Y_train,pred_prob_NB[:,1])\n",
    "print('AUC-NB: %.3f' % auc)\n",
    "\n",
    "fpr, tpr, thresholds = roc_curve(Y_train,pred_prob_SVM[:,1] )\n",
    "auc = roc_auc_score(Y_train,pred_prob_SVM[:,1])\n",
    "print('AUC-SVM: %.3f' % auc)\n",
    "\n"
   ]
  },
  {
   "cell_type": "markdown",
   "metadata": {},
   "source": [
    "### 2. Scoring the New Data "
   ]
  },
  {
   "cell_type": "code",
   "execution_count": 9,
   "metadata": {},
   "outputs": [
    {
     "name": "stderr",
     "output_type": "stream",
     "text": [
      "<ipython-input-9-39becedf8092>:8: SettingWithCopyWarning: \n",
      "A value is trying to be set on a copy of a slice from a DataFrame.\n",
      "Try using .loc[row_indexer,col_indexer] = value instead\n",
      "\n",
      "See the caveats in the documentation: https://pandas.pydata.org/pandas-docs/stable/user_guide/indexing.html#returning-a-view-versus-a-copy\n",
      "  score_main['InvoiceDate'] = pd.to_datetime(score_main['InvoiceDate'], errors='coerce')\n",
      "<ipython-input-9-39becedf8092>:9: SettingWithCopyWarning: \n",
      "A value is trying to be set on a copy of a slice from a DataFrame.\n",
      "Try using .loc[row_indexer,col_indexer] = value instead\n",
      "\n",
      "See the caveats in the documentation: https://pandas.pydata.org/pandas-docs/stable/user_guide/indexing.html#returning-a-view-versus-a-copy\n",
      "  score_main['InvoiceDate'] =score_main['InvoiceDate'].dt.strftime('%m/%Y')\n",
      "<ipython-input-9-39becedf8092>:10: SettingWithCopyWarning: \n",
      "A value is trying to be set on a copy of a slice from a DataFrame.\n",
      "Try using .loc[row_indexer,col_indexer] = value instead\n",
      "\n",
      "See the caveats in the documentation: https://pandas.pydata.org/pandas-docs/stable/user_guide/indexing.html#returning-a-view-versus-a-copy\n",
      "  score_extra['InvoiceDate'] = pd.to_datetime(score_extra['InvoiceDate'], errors='coerce')\n",
      "<ipython-input-9-39becedf8092>:11: SettingWithCopyWarning: \n",
      "A value is trying to be set on a copy of a slice from a DataFrame.\n",
      "Try using .loc[row_indexer,col_indexer] = value instead\n",
      "\n",
      "See the caveats in the documentation: https://pandas.pydata.org/pandas-docs/stable/user_guide/indexing.html#returning-a-view-versus-a-copy\n",
      "  score_extra['InvoiceDate'] = score_extra['InvoiceDate'].dt.strftime('%m/%Y')\n",
      "<ipython-input-9-39becedf8092>:12: SettingWithCopyWarning: \n",
      "A value is trying to be set on a copy of a slice from a DataFrame.\n",
      "Try using .loc[row_indexer,col_indexer] = value instead\n",
      "\n",
      "See the caveats in the documentation: https://pandas.pydata.org/pandas-docs/stable/user_guide/indexing.html#returning-a-view-versus-a-copy\n",
      "  score_main['InvoiceDate'] = pd.to_datetime(score_main['InvoiceDate'], errors='coerce')\n",
      "<ipython-input-9-39becedf8092>:13: SettingWithCopyWarning: \n",
      "A value is trying to be set on a copy of a slice from a DataFrame.\n",
      "Try using .loc[row_indexer,col_indexer] = value instead\n",
      "\n",
      "See the caveats in the documentation: https://pandas.pydata.org/pandas-docs/stable/user_guide/indexing.html#returning-a-view-versus-a-copy\n",
      "  score_main['InvoiceDate'] = score_main['InvoiceDate'].dt.strftime('%m/%Y')\n",
      "<ipython-input-9-39becedf8092>:14: SettingWithCopyWarning: \n",
      "A value is trying to be set on a copy of a slice from a DataFrame.\n",
      "Try using .loc[row_indexer,col_indexer] = value instead\n",
      "\n",
      "See the caveats in the documentation: https://pandas.pydata.org/pandas-docs/stable/user_guide/indexing.html#returning-a-view-versus-a-copy\n",
      "  score_extra['InvoiceDate'] = pd.to_datetime(score_extra['InvoiceDate'], errors='coerce')\n",
      "<ipython-input-9-39becedf8092>:15: SettingWithCopyWarning: \n",
      "A value is trying to be set on a copy of a slice from a DataFrame.\n",
      "Try using .loc[row_indexer,col_indexer] = value instead\n",
      "\n",
      "See the caveats in the documentation: https://pandas.pydata.org/pandas-docs/stable/user_guide/indexing.html#returning-a-view-versus-a-copy\n",
      "  score_extra['InvoiceDate'] = score_extra['InvoiceDate'].dt.strftime('%m/%Y')\n"
     ]
    }
   ],
   "source": [
    "start_date_score_main = pd.to_datetime('1/1/2010 0:00', utc= True)\n",
    "end_date_score_main = pd.to_datetime('10/31/2011 23:59', utc= True)\n",
    "score_main=df_init[(df_init['InvoiceDate'] > start_date_score_main) & (df_init['InvoiceDate'] < end_date_score_main)]\n",
    "start_date_score_extra = pd.to_datetime('11/1/2011 0:00', utc= True)\n",
    "end_date_score_extra = pd.to_datetime('11/9/2011 23:59', utc= True)\n",
    "score_extra=df_init[(df_init['InvoiceDate'] > start_date_score_extra) & (df_init['InvoiceDate'] <end_date_score_extra)]\n",
    "\n",
    "score_main['InvoiceDate'] = pd.to_datetime(score_main['InvoiceDate'], errors='coerce')\n",
    "score_main['InvoiceDate'] =score_main['InvoiceDate'].dt.strftime('%m/%Y')\n",
    "score_extra['InvoiceDate'] = pd.to_datetime(score_extra['InvoiceDate'], errors='coerce')\n",
    "score_extra['InvoiceDate'] = score_extra['InvoiceDate'].dt.strftime('%m/%Y')\n",
    "score_main['InvoiceDate'] = pd.to_datetime(score_main['InvoiceDate'], errors='coerce')\n",
    "score_main['InvoiceDate'] = score_main['InvoiceDate'].dt.strftime('%m/%Y')\n",
    "score_extra['InvoiceDate'] = pd.to_datetime(score_extra['InvoiceDate'], errors='coerce')\n",
    "score_extra['InvoiceDate'] = score_extra['InvoiceDate'].dt.strftime('%m/%Y')\n",
    "\n",
    "score_main=pandasql.sqldf(\"SELECT CustomerID, count(Invoice) as Visits, InvoiceDate,sum(Quantity) as Total_Quantity,sum(Total_Spent) as Grand_Spent FROM score_main Group by CustomerID,InvoiceDate;\", globals())\n",
    "score_main=score_main.dropna()\n",
    "score_extra=pandasql.sqldf(\"SELECT CustomerID, count(Invoice) as Visits, sum(Quantity) as Total_Quantity,sum(Total_Spent) as Grand_Spent FROM score_extra Group by CustomerID;\", globals())\n",
    "score_extra=score_extra.dropna()\n",
    "\n",
    "score_main_1=pd.pivot_table(score_main, index='CustomerID', columns='InvoiceDate', values='Visits')\n",
    "score_main_2=pd.pivot_table(score_main, index='CustomerID', columns='InvoiceDate', values='Total_Quantity')\n",
    "score_main_3=pd.pivot_table(score_main, index='CustomerID', columns='InvoiceDate', values='Grand_Spent')\n",
    "score_main_1=score_main_1.fillna(0)\n",
    "score_main_2=score_main_2.fillna(0)\n",
    "score_main_3=score_main_3.fillna(0)\n",
    "\n",
    "score_main_1.rename(columns={'12/2009':'M_1','01/2010':'M_2','02/2010':'M_3','03/2010':'M_4','04/2010':'M_5','05/2010':'M_6','06/2010':'M_7','07/2010':'M_8','08/2010':'M_9','09/2010':'M_10','10/2010':'M_11','11/2010':'M_12','12/2010':'M_13','01/2011':'M_14','02/2011':'M_15','03/2011':'M_16','04/2011':'M_17','05/2011':'M_18','06/2011':'M_19','07/2011':'M_20','08/2011':'M_21','09/2011':'M_22'},inplace=True)\n",
    "\n",
    "score_main_1.rename(columns={'01/2010':'M_1','02/2010':'M_2','03/2010':'M_3','04/2010':'M_4','05/2010':'M_5','06/2010':'M_6','07/2010':'M_7','08/2010':'M_8','09/2010':'M_9','10/2010':'M_10','11/2010':'M_11','12/2010':'M_12','01/2011':'M_13','02/2011':'M_14','03/2011':'M_15','04/2011':'M_16','05/2011':'M_17','06/2011':'M_18','07/2011':'M_19','08/2011':'M_20','09/2011':'M_21','10/2011':'M_22'},inplace=True)\n",
    "score_main_2.rename(columns={'01/2010':'M_1','02/2010':'M_2','03/2010':'M_3','04/2010':'M_4','05/2010':'M_5','06/2010':'M_6','07/2010':'M_7','08/2010':'M_8','09/2010':'M_9','10/2010':'M_10','11/2010':'M_11','12/2010':'M_12','01/2011':'M_13','02/2011':'M_14','03/2011':'M_15','04/2011':'M_16','05/2011':'M_17','06/2011':'M_18','07/2011':'M_19','08/2011':'M_20','09/2011':'M_21','10/2011':'M_22'},inplace=True)\n",
    "score_main_2.rename(columns={'01/2010':'M_1','02/2010':'M_2','03/2010':'M_3','04/2010':'M_4','05/2010':'M_5','06/2010':'M_6','07/2010':'M_7','08/2010':'M_8','09/2010':'M_9','10/2010':'M_10','11/2010':'M_11','12/2010':'M_12','01/2011':'M_13','02/2011':'M_14','03/2011':'M_15','04/2011':'M_16','05/2011':'M_17','06/2011':'M_18','07/2011':'M_19','08/2011':'M_20','09/2011':'M_21','10/2011':'M_22'},inplace=True)\n",
    "\n",
    "score_main_1=score_main_1.add_prefix('Visits_')\n",
    "score_main_2=score_main_2.add_prefix('Total_Quantity_')\n",
    "score_main_3=score_main_3.add_prefix('Grand_Spent_')\n",
    "score_extra=score_extra.add_prefix('model_extra_')\n",
    "\n",
    "score_main = pandasql.sqldf(\"SELECT * FROM score_main_1 LEFT JOIN score_main_2 ON score_main_1.CustomerID = score_main_2.CustomerID;\", globals())\n",
    "score_main=pandasql.sqldf(\"SELECT * FROM score_main LEFT JOIN score_main_3 ON score_main.CustomerID = score_main_3.CustomerID;\", globals())\n",
    "score_main=pandasql.sqldf(\"SELECT * FROM score_main LEFT JOIN score_extra ON score_main.CustomerID = score_extra.model_extra_CustomerID;\", globals())\n",
    "score_main=model_main.loc[:,~model_main.columns.duplicated()]\n",
    "score_main=model_main.fillna(0)"
   ]
  },
  {
   "cell_type": "code",
   "execution_count": 10,
   "metadata": {},
   "outputs": [],
   "source": [
    "array = score_main.values\n",
    "X_score = array[:,1:69]\n",
    "\n",
    "pred_prob_LR = modelLR.predict_proba(X_score)\n",
    "pred_prob_LDA = modelLDA.predict_proba(X_score)\n",
    "pred_prob_KNN = modelKNN.predict_proba(X_score)\n",
    "pred_prob_CART = modelCART.predict_proba(X_score)\n",
    "pred_prob_NB = modelNB.predict_proba(X_score)\n",
    "pred_prob_SVM = modelSVM.predict_proba(X_score)\n",
    "predictionsLR = modelLR.predict(X_score)\n",
    "predictionsLDA = modelLDA.predict(X_score)\n",
    "predictionsKNN = modelKNN.predict(X_score)\n",
    "predictionsCART = modelCART.predict(X_score)\n",
    "predictionsNB = modelNB.predict(X_score)\n",
    "predictionsSVM = modelSVM.predict(X_score)"
   ]
  },
  {
   "cell_type": "code",
   "execution_count": 114,
   "metadata": {},
   "outputs": [],
   "source": [
    "cust_id = score_main. iloc[:, 0].values\n",
    "cust_id\n",
    "pred_prob_CART\n",
    "Prediction=pred_prob_CART[:,1]\n",
    "df = pd.DataFrame({'Customer ID':cust_id, 'Prediction':Prediction})\n",
    "df.to_csv('Epsilon_Submission.csv')"
   ]
  },
  {
   "cell_type": "code",
   "execution_count": 12,
   "metadata": {},
   "outputs": [],
   "source": [
    "model_main.to_csv('model_main.csv')"
   ]
  },
  {
   "cell_type": "code",
   "execution_count": null,
   "metadata": {},
   "outputs": [],
   "source": []
  }
 ],
 "metadata": {
  "kernelspec": {
   "display_name": "Python 3",
   "language": "python",
   "name": "python3"
  },
  "language_info": {
   "codemirror_mode": {
    "name": "ipython",
    "version": 3
   },
   "file_extension": ".py",
   "mimetype": "text/x-python",
   "name": "python",
   "nbconvert_exporter": "python",
   "pygments_lexer": "ipython3",
   "version": "3.8.5"
  }
 },
 "nbformat": 4,
 "nbformat_minor": 4
}
